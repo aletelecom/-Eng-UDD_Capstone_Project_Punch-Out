{
 "cells": [
  {
   "cell_type": "markdown",
   "id": "e3962d04",
   "metadata": {},
   "source": [
    "# Create the Gym class\n",
    "\n",
    "In this notebook I am going to create a class __\"MtpoNes()\"__ that will make it easier for me to execute all the necessary preprocessing during the project. This class makes it easy to modify the behavior of the __\"Env\"__ object of the retro gym library, and will have image preprocessing elements commented out in the previous notebook."
   ]
  },
  {
   "cell_type": "code",
   "execution_count": 7,
   "id": "654b21af",
   "metadata": {},
   "outputs": [],
   "source": [
    "# Imports\n",
    "# For gym functionality\n",
    "from gym import Env\n",
    "from gym.spaces import Discrete, Box\n",
    "from retro import RetroEnv\n",
    "\n",
    "import numpy as np\n",
    "# Import opencv for grayscaling\n",
    "import cv2\n",
    "# Import matplotlib for plotting the image\n",
    "from matplotlib import pyplot as plt\n",
    "\n",
    "from stable_baselines3 import PPO\n",
    "from stable_baselines3.common.vec_env import VecFrameStack, DummyVecEnv\n",
    "from stable_baselines3.common.monitor import Monitor"
   ]
  },
  {
   "cell_type": "code",
   "execution_count": 14,
   "id": "fb00b41e",
   "metadata": {},
   "outputs": [],
   "source": [
    "class RetroMtpoNesReduced(Env):\n",
    "    \"\"\"\n",
    "    Class that creates a retro \"Gym\" object, and allows me to manipulate its observation space.\n",
    "     With this I seek to reduce the observations space, to speed up the training stage.\n",
    "\n",
    "     This class creates a \"focus area\", removing the outter most two thirds of the screen (vertically), \n",
    "     leaving in \"focus\" a area where the action of the game takes place. Additionally I reduce the number\n",
    "     of color channels, from three to one, which gives the feeling that the game is in black and white (also\n",
    "     called \"grayscaling\").\n",
    "\n",
    "     In this class, additionally, the \"viewing\" area is reduced, going from an observation space of 196x80x1\n",
    "     to one of 84x84x1.\n",
    "     \n",
    "     The main inspiration for this class comes from a Youtube tutorial from Nickolas Renotte.\n",
    "     \n",
    "     https://www.youtube.com/watch?v=rzbFhu6So5U&t=6248s\n",
    "     \n",
    "    \"\"\"\n",
    "    def __init__(self, state='GlassJoe.state',\n",
    "                 scenario='scenario_king_hippo',\n",
    "                 inttype=retro.data.Integrations.STABLE,\n",
    "                 use_restricted_actions=retro.Actions.DISCRETE,\n",
    "                 points_as_rewards=True):\n",
    "        super(RetroEnv).__init__()\n",
    "        # Most of these lines comes from GYM RETRO library.\n",
    "        self.img = None\n",
    "        rom_path = retro.data.get_romfile_path('Mtpo-Nes', inttype)\n",
    "        self.system = retro.get_romfile_system(rom_path)\n",
    "        core = retro.get_system_info(self.system)\n",
    "        self.buttons = core['buttons']\n",
    "        self.observation_space = Box(low=0, high=255, shape=(84,84,1), dtype=np.uint8)\n",
    "        self.action_space = Discrete(24)\n",
    "        self.state = state\n",
    "        self.scenario = scenario\n",
    "        self.use_restricted_actions = use_restricted_actions\n",
    "        self.game = retro.make(game='Mtpo-Nes',\n",
    "                               state=self.state,\n",
    "                               scenario=self.scenario,\n",
    "                               use_restricted_actions=self.use_restricted_actions)\n",
    "        self.points_as_rewards = points_as_rewards\n",
    "        self.picture = None\n",
    "        \n",
    "\n",
    "    def preprocess(self, observation):\n",
    "        \"\"\" \n",
    "        Method to preprocess the images that the \"RetroEnv\" object uses during training.\n",
    "         The idea is to deliver a reduced observation, which helps streamline the training processes of the\n",
    "         agent. The derivation of the reduced observation can be seen in the notebook:\n",
    "        \n",
    "         - '1_CV_Preprocessing.ipynb'\n",
    "        \n",
    "         which is part of this 'Notebooks' section\n",
    "        \"\"\"\n",
    "        # Cropping\n",
    "        xlen = observation.shape[0]\n",
    "        ylen = observation.shape[1]\n",
    "        focus_zone = observation[int(xlen*(1/8)):int(xlen*(3/2)),int(ylen/3):-int(ylen/3)]\n",
    "        # Grayscale\n",
    "        gray = cv2.cvtColor(focus_zone, cv2.COLOR_BGR2GRAY)\n",
    "        resize = cv2.resize(gray, (84,84), interpolation=cv2.INTER_CUBIC)\n",
    "        \n",
    "        # We must fit the output to a tensor with three dimensions, since\n",
    "        # it is the data structure that the gym object expects.\n",
    "        # values between 0 and 1.\n",
    "        channels = np.reshape(resize, (84,84,1))\n",
    "\n",
    "        return channels\n",
    "\n",
    "    def reset(self):\n",
    "        # Returns the fist \"frame\"\n",
    "        obs = self.game.reset()\n",
    "        processed_obs = self.preprocess(obs)\n",
    "        self.score = 0\n",
    "        self.picture = processed_obs\n",
    "        return processed_obs\n",
    "    \n",
    "    def step(self, action):\n",
    "        # Go one step further in the emulation of the game\n",
    "        # Integrate the modification to the observation using the \"preprocessed()\" method\n",
    "        obs, reward, done, info = self.game.step(action)\n",
    "        processed_obs = self.preprocess(obs)\n",
    "        \n",
    "        # This is to return the points of the game as the reward if we want it.\n",
    "        if self.points_as_rewards:\n",
    "            reward_as_points = info['POINTS'] - self.score\n",
    "            self.score = info['POINTS']\n",
    "            return processed_obs, reward_as_points, done, info\n",
    "        else:  \n",
    "            return processed_obs, reward, done, info\n",
    "    \n",
    "    # The rest of the methods are not used much, yet might come in\n",
    "    # handy in some cases\n",
    "    def render(self, *args, **kwargs):\n",
    "        self.game.render()\n",
    "        \n",
    "    def close(self):\n",
    "        self.game.close()\n",
    "\n",
    "    def get_image(self):\n",
    "        return self.picture\n",
    "    \n",
    "    def get_buttons(self):\n",
    "        return self.buttons\n",
    "    \n",
    "    def get_action_meaning(self, act):\n",
    "        return self.game.get_action_meaning(act)\n",
    "    \n",
    "    def get_in_game_score(self):\n",
    "        return self.score\n",
    "\n",
    "    def get_in_game_reward(self):\n",
    "        return self.in_game_reward"
   ]
  },
  {
   "cell_type": "markdown",
   "id": "ef288f19",
   "metadata": {},
   "source": [
    "Let´s instantiate the class to check if it is working:"
   ]
  },
  {
   "cell_type": "code",
   "execution_count": 15,
   "id": "9b4227b9",
   "metadata": {},
   "outputs": [
    {
     "data": {
      "text/plain": [
       "(84, 84, 1)"
      ]
     },
     "execution_count": 15,
     "metadata": {},
     "output_type": "execute_result"
    }
   ],
   "source": [
    "env = RetroMtpoNesReduced()\n",
    "env.observation_space.shape"
   ]
  },
  {
   "cell_type": "markdown",
   "id": "46a666bd",
   "metadata": {},
   "source": [
    "Above we can see that the shape of the image is as expected."
   ]
  },
  {
   "cell_type": "code",
   "execution_count": 16,
   "id": "3aa9d269",
   "metadata": {},
   "outputs": [
    {
     "data": {
      "image/png": "[encoded data removed]",
      "text/plain": [
       "<Figure size 640x480 with 1 Axes>"
      ]
     },
     "metadata": {},
     "output_type": "display_data"
    }
   ],
   "source": [
    "init_obs = env.reset()\n",
    "accion = env.action_space.sample()\n",
    "obs, reward, done, info = env.step(accion)\n",
    "plt.imshow(cv2.cvtColor(obs, cv2.COLOR_BGR2RGB))\n",
    "plt.axis('off')\n",
    "plt.show()"
   ]
  },
  {
   "cell_type": "markdown",
   "id": "6d6d75f5",
   "metadata": {},
   "source": [
    "We see that the __\"RetroMtpoNesReduced()\"__ class does all the requested pre-processing, and it works without any problems."
   ]
  }
 ],
 "metadata": {
  "kernelspec": {
   "display_name": "RL_RETRO",
   "language": "python",
   "name": "rl_retro"
  },
  "language_info": {
   "codemirror_mode": {
    "name": "ipython",
    "version": 3
   },
   "file_extension": ".py",
   "mimetype": "text/x-python",
   "name": "python",
   "nbconvert_exporter": "python",
   "pygments_lexer": "ipython3",
   "version": "3.8.10"
  }
 },
 "nbformat": 4,
 "nbformat_minor": 5
}
