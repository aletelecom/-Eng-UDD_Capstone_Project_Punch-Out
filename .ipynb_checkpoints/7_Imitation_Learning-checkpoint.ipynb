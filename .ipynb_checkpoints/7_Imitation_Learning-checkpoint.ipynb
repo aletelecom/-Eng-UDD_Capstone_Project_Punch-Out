{
 "cells": [
  {
   "cell_type": "code",
   "execution_count": 1,
   "id": "b6946800",
   "metadata": {},
   "outputs": [
    {
     "name": "stdout",
     "output_type": "stream",
     "text": [
      "pygame 2.1.2 (SDL 2.0.18, Python 3.8.10)\n",
      "Hello from the pygame community. https://www.pygame.org/contribute.html\n"
     ]
    }
   ],
   "source": [
    "# basic imports\n",
    "import os\n",
    "import itertools\n",
    "\n",
    "# Imports for \"gym\" and \"retro\" features\n",
    "from gym import Env\n",
    "import gym\n",
    "from gym.spaces import Box, Discrete, MultiBinary\n",
    "import retro\n",
    "from retro import RetroEnv\n",
    "from gym.utils.play import play\n",
    "\n",
    "# To help with image preprocessing\n",
    "import numpy as np\n",
    "import cv2\n",
    "\n",
    "# To help with learning by imitation (Imitation library)\n",
    "from imitation.data.types import TrajectoryWithRew, save, load\n",
    "from imitation.rewards.reward_nets import CnnRewardNet, BasicRewardNet\n",
    "from imitation.algorithms.adversarial.gail import GAIL\n",
    "\n",
    "# Everything related to SB3 (reinforced learning, RL agents)\n",
    "from stable_baselines3 import PPO\n",
    "from stable_baselines3.common.vec_env import VecFrameStack, DummyVecEnv, VecTransposeImage\n",
    "from stable_baselines3.common.monitor import Monitor\n",
    "from stable_baselines3.common.evaluation import evaluate_policy \n",
    "from stable_baselines3.common.callbacks import BaseCallback\n",
    "from stable_baselines3.ppo import CnnPolicy, MlpPolicy"
   ]
  },
  {
   "cell_type": "markdown",
   "id": "90f54500",
   "metadata": {},
   "source": [
    "##  When working in IRL, we will change the \"RetroMtpoNesReducedRL\" to \"RetroMtpoNesReducedIRL, meaning that we will change the action space from Multibinary, to Discrete"
   ]
  },
  {
   "cell_type": "code",
   "execution_count": 2,
   "id": "d8400eaa",
   "metadata": {},
   "outputs": [],
   "source": [
    "class RetroMtpoNesReducedIRL(Env):\n",
    "    \"\"\"\n",
    "    Class that creates a retro \"Gym\" object, and allows me to manipulate its observation space.\n",
    "     With this I seek to reduce the observations space, to speed up the training stage.\n",
    "\n",
    "     This class creates a \"focus area\", removing the outter most two thirds of the screen (vertically), \n",
    "     leaving in \"focus\" a area where the action of the game takes place. Additionally I reduce the number\n",
    "     of color channels, from three to one, which gives the feeling that the game is in black and white (also\n",
    "     called \"grayscaling\").\n",
    "\n",
    "     In this class, additionally, the \"viewing\" area is reduced, going from an observation space of 196x80x1\n",
    "     to one of 84x84x1.\n",
    "     \n",
    "     The main inspiration for this class comes from a Youtube tutorial from Nickolas Renotte.\n",
    "     \n",
    "     https://www.youtube.com/watch?v=rzbFhu6So5U&t=6248s\n",
    "     \n",
    "    \"\"\"\n",
    "    def __init__(self, state='GlassJoe.state',\n",
    "                 scenario='scenario_king_hippo',\n",
    "                 inttype=retro.data.Integrations.STABLE,\n",
    "                 points_as_rewards=True):\n",
    "        super(RetroEnv).__init__()\n",
    "        # Most of these lines comes from GYM RETRO library.\n",
    "        self.img = None\n",
    "        rom_path = retro.data.get_romfile_path('Mtpo-Nes', inttype)\n",
    "        self.system = retro.get_romfile_system(rom_path)\n",
    "        core = retro.get_system_info(self.system)\n",
    "        self.buttons = core['buttons']\n",
    "        self.observation_space = Box(low=0, high=255, shape=(84,84,1), dtype=np.uint8)\n",
    "#         self.action_space = Discrete(9)\n",
    "        self.action_space = MultiBinary(11)\n",
    "        self.state = state\n",
    "        self.scenario = scenario\n",
    "        self.game = retro.make(game='Mtpo-Nes',\n",
    "                               state=self.state,\n",
    "                               scenario=self.scenario,\n",
    "                              )\n",
    "        self.points_as_rewards = points_as_rewards\n",
    "        self.picture = None\n",
    "        \n",
    "\n",
    "    def preprocess(self, observation):\n",
    "        \"\"\" \n",
    "        Method to preprocess the images that the \"RetroEnv\" object uses during training.\n",
    "         The idea is to deliver a reduced observation, which helps streamline the training processes of the\n",
    "         agent. The derivation of the reduced observation can be seen in the notebook:\n",
    "        \n",
    "         - '1_CV_Preprocessing.ipynb'\n",
    "        \n",
    "         which is part of this 'Notebooks' section\n",
    "        \"\"\"\n",
    "        # Cropping\n",
    "        xlen = observation.shape[0]\n",
    "        ylen = observation.shape[1]\n",
    "        focus_zone = observation[int(xlen*(1/8)):int(xlen*(3/2)),int(ylen/3):-int(ylen/3)]\n",
    "        # Grayscale\n",
    "        gray = cv2.cvtColor(focus_zone, cv2.COLOR_BGR2GRAY)\n",
    "        resize = cv2.resize(gray, (84,84), interpolation=cv2.INTER_CUBIC)\n",
    "        \n",
    "        # We must fit the output to a tensor with three dimensions, since\n",
    "        # it is the data structure that the gym object expects.\n",
    "        # values between 0 and 1.\n",
    "        channels = np.reshape(resize, (84,84,1))\n",
    "\n",
    "        return channels\n",
    "\n",
    "    def reset(self):\n",
    "        # Returns the fist \"frame\"\n",
    "        obs = self.game.reset()\n",
    "        processed_obs = self.preprocess(obs)\n",
    "        self.score = 0\n",
    "        self.picture = processed_obs\n",
    "        return processed_obs\n",
    "    \n",
    "    def step(self, action):\n",
    "        # Go one step further in the emulation of the game\n",
    "        # Integrate the modification to the observation using the \"preprocessed()\" method\n",
    "        obs, reward, done, info = self.game.step(action)\n",
    "        processed_obs = self.preprocess(obs)\n",
    "        \n",
    "        # This is to return the points of the game as the reward if we want it.\n",
    "        if self.points_as_rewards:\n",
    "            reward_as_points = info['POINTS'] - self.score\n",
    "            self.score = info['POINTS']\n",
    "            return processed_obs, reward_as_points, done, info\n",
    "        else:  \n",
    "            return processed_obs, reward, done, info\n",
    "    \n",
    "    # The rest of the methods are not used much, yet might come in\n",
    "    # handy in some cases\n",
    "    def render(self, *args, **kwargs):\n",
    "        self.game.render()\n",
    "        \n",
    "    def close(self):\n",
    "        self.game.close()\n",
    "\n",
    "    def get_image(self):\n",
    "        return self.picture\n",
    "    \n",
    "    def get_buttons(self):\n",
    "        return self.buttons\n",
    "    \n",
    "    def get_action_meaning(self, act):\n",
    "        return self.game.get_action_meaning(act)\n",
    "    \n",
    "    def get_in_game_score(self):\n",
    "        return self.score\n",
    "\n",
    "    def get_in_game_reward(self):\n",
    "        return self.in_game_rewar"
   ]
  },
  {
   "cell_type": "code",
   "execution_count": 3,
   "id": "ef129895",
   "metadata": {},
   "outputs": [],
   "source": [
    "class Discretizer(gym.ActionWrapper):\n",
    "    \"\"\"\n",
    "    Wraps an \"Env\" object and turn it into an environment with discrete actions.\n",
    "     args:\n",
    "         combos: ordered list of lists of valid button combinations.\n",
    "    \"\"\"\n",
    "\n",
    "    def __init__(self, env, combos):\n",
    "        super().__init__(env)\n",
    "        assert isinstance(env.action_space, gym.spaces.MultiBinary)\n",
    "        buttons = env.unwrapped.buttons\n",
    "        self._decode_discrete_action = []\n",
    "        for combo in combos:\n",
    "            arr = np.array([False] * env.action_space.n)\n",
    "            for button in combo:\n",
    "                arr[buttons.index(button)] = True\n",
    "            self._decode_discrete_action.append(arr)\n",
    "\n",
    "        self.action_space = gym.spaces.Discrete(len(self._decode_discrete_action))\n",
    "\n",
    "    def action(self, act):\n",
    "        return self._decode_discrete_action[act].copy()\n",
    "\n",
    "\n",
    "class MtpoDiscretizer(Discretizer):\n",
    "    \"\"\"\n",
    "    We use discrete actions specific to the Punch-Out game\n",
    "    \"\"\"\n",
    "\n",
    "# Actions to use the star during the fight (super power)\n",
    "    def __init__(self, env):\n",
    "        USE_STAR = [\n",
    "        [], # Motionless\n",
    "        ['RIGHT'], # Dodge right\n",
    "        ['LEFT'], # Dodge left\n",
    "        ['DOWN'], # Cover\n",
    "        ['UP', 'A'], # Hit the face with a right hand\n",
    "        ['UP', 'B'], # Hit the face with a left hand\n",
    "        ['A'], # Punch to the body with a right hand\n",
    "        ['B'], # Punch to the body with a left hand\n",
    "        ['START'], # Use super power\n",
    "        ]\n",
    "\n",
    "# Actions to not use the star during the fight (super power)\n",
    "        NO_STAR = [\n",
    "        [], # Motionless\n",
    "        ['RIGHT'], # Dodge right\n",
    "        ['LEFT'], # Dodge left\n",
    "        ['DOWN'], # Cover\n",
    "        ['UP', 'A'], # Hit the face with a right hand\n",
    "        ['UP', 'B'], # Hit the face with a left hand\n",
    "        ['A'], # Punch to the body with a right hand\n",
    "        ['B'], # Punch to the body with a left hand\n",
    "        ]\n",
    "\n",
    "# Actions to not use the star during the fight (super power) and only dodge blows, not cover\n",
    "        DODGE = [\n",
    "        [],\n",
    "        ['RIGHT'], # Dodge right\n",
    "        ['LEFT'], # Dodge left\n",
    "        ['DOWN'], # Cover\n",
    "        ['UP', 'A'], # Hit the face with a right hand\n",
    "        ['UP', 'B'], # Hit the face with a left hand\n",
    "        ['A'], # Punch to the body with a right hand\n",
    "        ['B'], # Punch to the body with a left hand\n",
    "        ['START'], # Use super power\n",
    "        ]\n",
    "        super().__init__(env=env, combos=DODGE)"
   ]
  },
  {
   "cell_type": "markdown",
   "id": "9d70d587",
   "metadata": {},
   "source": [
    "### We load the trajectories file:"
   ]
  },
  {
   "cell_type": "code",
   "execution_count": 4,
   "id": "ed9c529a",
   "metadata": {},
   "outputs": [],
   "source": [
    "file_name = 'Expert_demos_reduced_obs_stacked_2-episodes.npz'\n",
    "# file_name = 'Expert_demos_reduced_obs_stacked_54-episodios_HWC(no_perfectos_dones)_consolidadas.npz'\n",
    "\n",
    "path_archivo = os.path.join('..', 'expert_demos', file_name)\n",
    "\n",
    "expert_trajectories = load(path_archivo)"
   ]
  },
  {
   "cell_type": "markdown",
   "id": "27091570",
   "metadata": {},
   "source": [
    "## And we plot them again to confirm that they were saved and loaded correctly:"
   ]
  },
  {
   "cell_type": "code",
   "execution_count": 5,
   "id": "a165563d",
   "metadata": {},
   "outputs": [
    {
     "data": {
      "image/png": "[encoded data removed]",
      "text/plain": [
       "<Figure size 1500x500 with 12 Axes>"
      ]
     },
     "metadata": {},
     "output_type": "display_data"
    }
   ],
   "source": [
    "STACKED_FRAMES = 12\n",
    "\n",
    "import matplotlib.pyplot as plt\n",
    "%matplotlib inline\n",
    "env_screen = expert_trajectories[0].obs[1220]\n",
    "env_screen = env_screen.reshape((STACKED_FRAMES,84,84,1))\n",
    "fig, axes = plt.subplots(2,int(STACKED_FRAMES/2), figsize=(15,5))\n",
    "for n, axe in zip(range(STACKED_FRAMES), axes.flatten()):\n",
    "    axe.imshow(env_screen[n],\n",
    "               cmap='gray'\n",
    "              )\n",
    "    axe.axis('off')\n",
    "plt.show()"
   ]
  },
  {
   "cell_type": "markdown",
   "id": "87a2bcc9",
   "metadata": {},
   "source": [
    "# Imitation Learning with GAIL\n",
    "\n",
    "__GAIL__ will be used as the IRL algorithm, whose operating principle is __GAN__ (Generative Adversarial Networks).\n",
    "\n",
    "In the following link we can see the paper:\n",
    "\n",
    "https://arxiv.org/abs/1606.03476\n",
    "\n",
    "To implement the GAIL agent we will have the following considerations:\n",
    "\n",
    "* As we have been doing, for the agent GAIL a CNN viewing policy will be used.\n",
    "* We continue with the \"stacking\" of \"frames\", specifically 12.\n",
    "* The GAIL agent only supports discrete action spaces.\n",
    "* The GAIL algorithm uses an RL agent, for which we are going to use PPO.\n",
    "* The GAIL algorithm must be \"told\" that the episodes, or trajectories, have a variable horizon, which means that the episodes differ in their duration.\n",
    "\n",
    "This last point is very important, and in the future, might be the reason for a new exploration of this project, because I will use variable horizons for now."
   ]
  },
  {
   "cell_type": "markdown",
   "id": "fa683690",
   "metadata": {},
   "source": [
    "## Custom CNNs Policies\n",
    "\n",
    "To extract accurate features from the game frames, and give the model great inputs, it is recommended to use custom CNNs Policies, yet, if you don´t have a GPU to process the data, I recommend you to leave the default \"CnnPolicy\"."
   ]
  },
  {
   "cell_type": "code",
   "execution_count": 6,
   "id": "6e308083",
   "metadata": {},
   "outputs": [],
   "source": [
    "# For the creation of the neural network\n",
    "from torch import nn\n",
    "\n",
    "from imitation.util.networks import RunningNorm"
   ]
  },
  {
   "cell_type": "code",
   "execution_count": 7,
   "id": "5ae0e6c8",
   "metadata": {},
   "outputs": [],
   "source": [
    "import torch as th\n",
    "import torch.nn as nn\n",
    "from stable_baselines3.common.torch_layers import BaseFeaturesExtractor"
   ]
  },
  {
   "cell_type": "code",
   "execution_count": 8,
   "id": "c168d4b2",
   "metadata": {},
   "outputs": [],
   "source": [
    "class CustomCNN(BaseFeaturesExtractor):\n",
    "    \"\"\"\n",
    "    :param observation_space: (gym.Space)\n",
    "    :param features_dim: (int) Number of features extracted.\n",
    "        This corresponds to the number of unit for the last layer.\n",
    "    \"\"\"\n",
    "\n",
    "    def __init__(self, observation_space: gym.spaces.Box, features_dim: int = 256):\n",
    "        super(CustomCNN, self).__init__(observation_space, features_dim)\n",
    "        # We assume CxHxW images (channels first)\n",
    "        # Re-ordering will be done by pre-preprocessing or wrapper\n",
    "        n_input_channels = observation_space.shape[0]\n",
    "        self.cnn = nn.Sequential(\n",
    "            nn.Conv2d(n_input_channels, 96, kernel_size=3, stride=1, padding=0),\n",
    "            nn.Conv2d(96, 64, kernel_size=3, stride=1, padding=0),\n",
    "            nn.MaxPool2d(kernel_size=2, stride=1),\n",
    "            nn.ReLU(),\n",
    "            nn.Flatten(),\n",
    "        )\n",
    "\n",
    "        # Compute shape by doing one forward pass\n",
    "        with th.no_grad():\n",
    "            n_flatten = self.cnn(\n",
    "                th.as_tensor(observation_space.sample()[None]).float()\n",
    "            ).shape[1]\n",
    "\n",
    "        self.linear = nn.Sequential(nn.Linear(n_flatten, features_dim), nn.ReLU())\n",
    "\n",
    "    def forward(self, observations: th.Tensor) -> th.Tensor:\n",
    "        return self.linear(self.cnn(observations))"
   ]
  },
  {
   "cell_type": "code",
   "execution_count": 9,
   "id": "42e46585",
   "metadata": {},
   "outputs": [],
   "source": [
    "STATE = 'KingHippo.state'\n",
    "SCENARIO = 'scenario_king_hippo'\n",
    "STACKED_FRAMES = 12\n",
    "\n",
    "env = RetroMtpoNesReducedIRL(\n",
    "                         state=STATE,\n",
    "                         scenario=SCENARIO,\n",
    "                         inttype=retro.data.Integrations.STABLE,\n",
    "                         points_as_rewards=True\n",
    "                    )\n",
    "\n",
    "# Create the \"wrapped\" RetroEnv object with everything you needed\n",
    "env = MtpoDiscretizer(env)\n",
    "env = Monitor(env)\n",
    "env = DummyVecEnv([lambda: env])\n",
    "env = VecTransposeImage(env)\n",
    "env = VecFrameStack(env, STACKED_FRAMES, channels_order='last')\n",
    "\n",
    "policy_kwargs = dict(\n",
    "                            features_extractor_class=CustomCNN,\n",
    "                            features_extractor_kwargs=dict(features_dim=96),\n",
    "                            activation_fn=nn.Tanh,\n",
    "                            net_arch=[96, dict(vf=[96], pi=[64])]\n",
    "                            )\n",
    "\n",
    "# The agent to be trained is a PPO agent from SB3\n",
    "ppo_learner = PPO(env=env,\n",
    "                  policy=CnnPolicy,\n",
    "                  policy_kwargs=policy_kwargs,\n",
    "                 )"
   ]
  },
  {
   "cell_type": "code",
   "execution_count": null,
   "id": "d34cbffd",
   "metadata": {},
   "outputs": [
    {
     "name": "stderr",
     "output_type": "stream",
     "text": [
      "\r",
      "round:   0%|                                                                                                                                                                                | 0/2 [00:00<?, ?it/s]"
     ]
    }
   ],
   "source": [
    "TIME_STEPS = 5000\n",
    "\n",
    "full_build_cnn_kwargs = {\n",
    "     'hid_channels' : (96,96),\n",
    "     'kernel_size' : 3,\n",
    "     'padding' : 1,\n",
    "     'activation' : nn.ReLU,\n",
    "     'dropout_prob' : 0.2,\n",
    "}\n",
    "\n",
    "reward_net = CnnRewardNet(\n",
    "        env.observation_space,\n",
    "        env.action_space,\n",
    "        use_state = True,\n",
    "        use_action = True,\n",
    "        use_next_state = True,\n",
    "        use_done = False,\n",
    "        hwc_format=False,\n",
    "        **full_build_cnn_kwargs,\n",
    "    )\n",
    "\n",
    "\n",
    "imitation_trainer = GAIL(\n",
    "        demonstrations=expert_trajectories,\n",
    "        demo_batch_size=1024,\n",
    "        gen_replay_buffer_capacity=2048,\n",
    "        n_disc_updates_per_round=4,\n",
    "        venv=env,\n",
    "        gen_algo=ppo_learner,\n",
    "        reward_net=reward_net,\n",
    "        init_tensorboard=True,\n",
    "        init_tensorboard_graph=True,\n",
    "    )\n",
    "\n",
    "# def imitationCallback(round_num):\n",
    "#     CHECKPOINT_DIR = os.path.join('..', 'models', 'train', 'gail', 'kinghippo')\n",
    "#     CHECK_FREQ = 150\n",
    "#     if round_num % CHECK_FREQ == 0:\n",
    "#         MODEL_DIR = os.path.join(CHECKPOINT_DIR, 'Partial_GAIL-PPO_CNN(96-Tanh)_model_{}_steps'.format(round_num))\n",
    "#         try:\n",
    "#             ppo_learner.save(MODEL_DIR)\n",
    "#             print(\"------------- Partial model saved in round {} successfully. -------------\".format(round_num))\n",
    "#         except Exception as e:\n",
    "#             print(\"------------- There was a problem trying to save the model in {}. -------------\".format(\n",
    "#                 MODEL_DIR))\n",
    "#             return -1000\n",
    "#         finally:\n",
    "#             return -1000\n",
    "        \n",
    "# It is necessary to indicate that the horizons (duration of each episode) are variable.\n",
    "imitation_trainer.allow_variable_horizon = True\n",
    "\n",
    "imitation_trainer.train(total_timesteps=TIME_STEPS,\n",
    "#                         callback=imitationCallback\n",
    "                       )"
   ]
  },
  {
   "cell_type": "code",
   "execution_count": null,
   "id": "75105089",
   "metadata": {},
   "outputs": [],
   "source": [
    "rewards, _ = evaluate_policy(ppo_learner, env, 3, return_episode_rewards=True, render=True)\n",
    "print(\"Rewards:\", rewards)"
   ]
  },
  {
   "cell_type": "code",
   "execution_count": null,
   "id": "eaf26701",
   "metadata": {},
   "outputs": [],
   "source": [
    "Para"
   ]
  },
  {
   "cell_type": "code",
   "execution_count": null,
   "id": "177ce5eb",
   "metadata": {},
   "outputs": [],
   "source": [
    "nombre_archivo = 'PPO_GAIL_MLP_1M_KH_reduced_stakced_feature_model'\n",
    "path = os.path.join('..', 'dataset', nombre_archivo)\n",
    "\n",
    "ppo_learner.save(path)"
   ]
  },
  {
   "cell_type": "code",
   "execution_count": null,
   "id": "1005cd8b",
   "metadata": {},
   "outputs": [],
   "source": [
    "nombre_archivo = 'PPO_GAIL_CNN_10k_KH_reduced_stakced_feature_model.zip'\n",
    "path = os.path.join('..', 'dataset', nombre_archivo)\n",
    "\n",
    "loaded_learner = PPO.load(path)"
   ]
  },
  {
   "cell_type": "code",
   "execution_count": null,
   "id": "ff8c5c8a",
   "metadata": {},
   "outputs": [],
   "source": [
    "env.close()"
   ]
  },
  {
   "cell_type": "code",
   "execution_count": null,
   "id": "4772817f",
   "metadata": {},
   "outputs": [],
   "source": [
    "GAME = 'Mtpo-Nes'\n",
    "STATE = 'KingHippo.state'\n",
    "SCENARIO = 'scenario_king_hippo'\n",
    "\n",
    "env = RetroMtpoNesReduced(\n",
    "                         state=STATE,\n",
    "                         scenario=SCENARIO,\n",
    "#                          record='.',\n",
    "                         inttype=retro.data.Integrations.STABLE\n",
    "                        )\n",
    "\n",
    "env = Monitor(env)\n",
    "env = DummyVecEnv([lambda: env])\n",
    "env = VecTransposeImage(env)\n",
    "env = VecFrameStack(env, STACKED_FRAMES, channels_order='last')"
   ]
  },
  {
   "cell_type": "code",
   "execution_count": null,
   "id": "1fe3925f",
   "metadata": {},
   "outputs": [],
   "source": [
    "VELOCIDAD = 0.001\n",
    "GAMES = 1\n",
    "\n",
    "total_reward = 0\n",
    "for game in range(GAMES): \n",
    "    obs = env.reset()\n",
    "    done = False\n",
    "    while not done: \n",
    "        if done:\n",
    "            obs = env.reset()\n",
    "        action = loaded_learner.predict(obs)[0]\n",
    "#         action = [env.action_space.sample()]\n",
    "#         print(action)\n",
    "        obs, reward, done, info = env.step(action)\n",
    "        total_reward += reward\n",
    "        env.render()\n",
    "        #time.sleep(VELOCIDAD)\n",
    "env.close()"
   ]
  },
  {
   "cell_type": "code",
   "execution_count": null,
   "id": "264e0cf3",
   "metadata": {},
   "outputs": [],
   "source": [
    "total_reward"
   ]
  },
  {
   "cell_type": "code",
   "execution_count": null,
   "id": "14402fb3",
   "metadata": {},
   "outputs": [],
   "source": [
    "env.close()"
   ]
  },
  {
   "cell_type": "code",
   "execution_count": null,
   "id": "44a65b5e",
   "metadata": {},
   "outputs": [],
   "source": [
    "env.observation_space.sample().shape"
   ]
  },
  {
   "cell_type": "code",
   "execution_count": null,
   "id": "d4781ed7",
   "metadata": {},
   "outputs": [],
   "source": [
    "expert_trajectories[2].obs[0].shape"
   ]
  },
  {
   "cell_type": "code",
   "execution_count": null,
   "id": "050de633",
   "metadata": {},
   "outputs": [],
   "source": [
    "STACKED_FRAMES = 12\n",
    "\n",
    "import matplotlib.pyplot as plt\n",
    "%matplotlib inline\n",
    "env_screen = expert_trajectories[0].obs[1220]\n",
    "env_screen = env_screen.reshape((STACKED_FRAMES,84,84,1))\n",
    "fig, axes = plt.subplots(2,int(STACKED_FRAMES/2), figsize=(15,5))\n",
    "for n, axe in zip(range(STACKED_FRAMES), axes.flatten()):\n",
    "    axe.imshow(env_screen[n],\n",
    "               cmap='gray'\n",
    "              )\n",
    "    axe.axis('off')\n",
    "plt.show()"
   ]
  },
  {
   "cell_type": "code",
   "execution_count": null,
   "id": "0e1f30ac",
   "metadata": {},
   "outputs": [],
   "source": [
    "env.reset()"
   ]
  },
  {
   "cell_type": "code",
   "execution_count": null,
   "id": "0b6f622f",
   "metadata": {},
   "outputs": [],
   "source": [
    "env.observation_space"
   ]
  },
  {
   "cell_type": "code",
   "execution_count": null,
   "id": "4cc90d14",
   "metadata": {},
   "outputs": [],
   "source": [
    "STACKED_FRAMES = 12\n",
    "\n",
    "import matplotlib.pyplot as plt\n",
    "%matplotlib inline\n",
    "env_screen = env.observation_space\n",
    "# env_screen = env_screen.reshape((STACKED_FRAMES,84,84,1))\n",
    "fig, axes = plt.subplots(2,int(STACKED_FRAMES/2), figsize=(15,5))\n",
    "for n, axe in zip(range(STACKED_FRAMES), axes.flatten()):\n",
    "    axe.imshow(env_screen,\n",
    "               cmap='gray'\n",
    "              )\n",
    "    axe.axis('off')\n",
    "plt.show()"
   ]
  },
  {
   "cell_type": "code",
   "execution_count": null,
   "id": "d19dae82",
   "metadata": {},
   "outputs": [],
   "source": []
  },
  {
   "cell_type": "code",
   "execution_count": null,
   "id": "35035251",
   "metadata": {},
   "outputs": [],
   "source": []
  },
  {
   "cell_type": "code",
   "execution_count": null,
   "id": "b9c445a4",
   "metadata": {},
   "outputs": [],
   "source": [
    "from imitation.algorithms import bc\n",
    "from imitation.data import rollout\n",
    "from imitation.algorithms.adversarial.airl import AIRL\n",
    "from imitation.rewards.reward_nets import BasicShapedRewardNet"
   ]
  },
  {
   "cell_type": "code",
   "execution_count": null,
   "id": "2a0ab1df",
   "metadata": {},
   "outputs": [],
   "source": [
    "nombre_archivo = 'Expert_demos_reduced_obs_stacked_54-episodios_HWC(no_perfectos)_consolidadas.npz'\n",
    "path_archivo = os.path.join('..', 'demostraciones_experto', nombre_archivo)\n",
    "\n",
    "expert_trajectories = load(path_archivo)"
   ]
  },
  {
   "cell_type": "code",
   "execution_count": null,
   "id": "10cb710f",
   "metadata": {},
   "outputs": [],
   "source": [
    "GAME = 'Mtpo-Nes'\n",
    "STATE = 'KingHippo.state'\n",
    "SCENARIO = 'scenario_king_hippo'\n",
    "# SCENARIO = 'scenario_punches'\n",
    "STACKED_FRAMES = 12\n",
    "\n",
    "env = RetroMtpoNesReducedGail(\n",
    "                         state=STATE,\n",
    "                         scenario=SCENARIO,\n",
    "#                          record='.',\n",
    "                         inttype=retro.data.Integrations.STABLE,\n",
    "                         use_restricted_actions=retro.Actions.DISCRETE,\n",
    "                         points_as_rewards=True\n",
    "                    )\n",
    "\n",
    "# Creamos el objeto RetroEnv \"wrappeado\" con todo lo necesario\n",
    "env = Monitor(env)\n",
    "env = DummyVecEnv([lambda: env])\n",
    "env = VecFrameStack(env, STACKED_FRAMES, channels_order='last')"
   ]
  },
  {
   "cell_type": "code",
   "execution_count": null,
   "id": "a3a64f55",
   "metadata": {},
   "outputs": [],
   "source": [
    "from imitation.rewards.reward_nets import BasicShapedRewardNet\n",
    "from imitation.algorithms.adversarial.airl import AIRL\n",
    "from imitation.util.networks import RunningNorm"
   ]
  },
  {
   "cell_type": "code",
   "execution_count": null,
   "id": "0942784a",
   "metadata": {},
   "outputs": [],
   "source": [
    "expert = PPO(policy=MlpPolicy, env=env)\n",
    "\n",
    "learner = PPO(env=env, policy=MlpPolicy)\n",
    "reward_net = BasicShapedRewardNet(\n",
    "    env.observation_space,\n",
    "    env.action_space,\n",
    "    normalize_input_layer=RunningNorm,\n",
    ")\n",
    "airl_trainer = AIRL(\n",
    "    demonstrations=expert_trajectories[:6],\n",
    "    demo_batch_size=1024,\n",
    "    gen_replay_buffer_capacity=2048,\n",
    "    n_disc_updates_per_round=4,\n",
    "    venv=env,\n",
    "    gen_algo=learner,\n",
    "    reward_net=reward_net,\n",
    ")\n",
    "\n",
    "airl_trainer.allow_variable_horizon = True\n",
    "airl_trainer.train(150000)"
   ]
  },
  {
   "cell_type": "code",
   "execution_count": null,
   "id": "e1b47418",
   "metadata": {},
   "outputs": [],
   "source": [
    "N_EVAL_EPISODES = 5\n",
    "\n",
    "evaluate_policy(learner,\n",
    "                env,\n",
    "                n_eval_episodes=N_EVAL_EPISODES,\n",
    "                return_episode_rewards=True,\n",
    "                deterministic=True,\n",
    "                render=True,\n",
    "               # reward_threshold=10.0\n",
    "               )"
   ]
  },
  {
   "cell_type": "code",
   "execution_count": null,
   "id": "d614e6b1",
   "metadata": {},
   "outputs": [],
   "source": []
  }
 ],
 "metadata": {
  "kernelspec": {
   "display_name": "RL_RETRO",
   "language": "python",
   "name": "rl_retro"
  },
  "language_info": {
   "codemirror_mode": {
    "name": "ipython",
    "version": 3
   },
   "file_extension": ".py",
   "mimetype": "text/x-python",
   "name": "python",
   "nbconvert_exporter": "python",
   "pygments_lexer": "ipython3",
   "version": "3.8.10"
  }
 },
 "nbformat": 4,
 "nbformat_minor": 5
}
